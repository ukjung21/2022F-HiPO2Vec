{
 "cells": [
  {
   "cell_type": "code",
   "execution_count": 1,
   "id": "ca5ac137",
   "metadata": {},
   "outputs": [],
   "source": [
    "import pandas as pd\n",
    "import numpy as np"
   ]
  },
  {
   "cell_type": "code",
   "execution_count": 2,
   "id": "6ccafbb8",
   "metadata": {},
   "outputs": [],
   "source": [
    "col=['HPO1', 'HPO2', 'rel_type'] \n",
    "# pos_link = pd.read_csv('/home/ukjung18/HiG2Vec/data/HPO.tsv', names=col, sep='\\t')\n",
    "pos_link = pd.read_csv('/home/ukjung18/HiG2Vec/data/HPO_full.tsv', names=col, sep='\\t')"
   ]
  },
  {
   "cell_type": "code",
   "execution_count": 3,
   "id": "af4d2e51",
   "metadata": {},
   "outputs": [
    {
     "data": {
      "text/plain": [
       "31122"
      ]
     },
     "execution_count": 3,
     "metadata": {},
     "output_type": "execute_result"
    }
   ],
   "source": [
    "hpo_uniq = pos_link['HPO1'].unique()\n",
    "len(hpo_uniq)"
   ]
  },
  {
   "cell_type": "code",
   "execution_count": 4,
   "id": "b93be283",
   "metadata": {},
   "outputs": [
    {
     "name": "stdout",
     "output_type": "stream",
     "text": [
      "31161\n"
     ]
    }
   ],
   "source": [
    "hpo = list(pd.unique(pos_link['HPO1']))\n",
    "hpo2 = list(pd.unique(pos_link['HPO2']))\n",
    "for i in hpo2:\n",
    "    if i not in hpo:\n",
    "        # print('hpo: {}'.format(i))\n",
    "        hpo.append(i)\n",
    "print(len(hpo))"
   ]
  },
  {
   "cell_type": "code",
   "execution_count": 5,
   "id": "1c07cfd1",
   "metadata": {},
   "outputs": [],
   "source": [
    "import scipy.sparse as sp\n",
    "import torch\n",
    "from collections import defaultdict"
   ]
  },
  {
   "cell_type": "code",
   "execution_count": 6,
   "id": "f422261d",
   "metadata": {},
   "outputs": [],
   "source": [
    "node_dict = defaultdict(int) # {HP:0000001 : 1}\n",
    "for i in range(len(hpo)):\n",
    "    node_dict[hpo[i]] = i"
   ]
  },
  {
   "cell_type": "code",
   "execution_count": 7,
   "id": "6a9e9a04",
   "metadata": {},
   "outputs": [],
   "source": [
    "# Split edge set for training and testing\n",
    "rel_len = len(pos_link['HPO1'])\n",
    "u = []\n",
    "v = []\n",
    "for i in range(rel_len):\n",
    "    u.append(node_dict[pos_link['HPO1'][i]])\n",
    "    v.append(node_dict[pos_link['HPO2'][i]])\n",
    "\n",
    "u = torch.IntTensor(u)\n",
    "v = torch.IntTensor(v)\n",
    "\n",
    "eids = np.arange(len(u))\n",
    "eids = np.random.permutation(eids)\n",
    "test_size = int(len(eids) * 0.1)\n",
    "train_size = len(u) - test_size\n",
    "test_pos_u, test_pos_v = np.array(u[eids[:test_size]]), np.array(v[eids[:test_size]])\n",
    "train_pos_u, train_pos_v = np.array(u[eids[test_size:]]), np.array(v[eids[test_size:]])\n",
    "\n",
    "# Find all negative edges and split them for training and testing\n",
    "adj = sp.coo_matrix((np.ones(len(u)), (u.numpy(), v.numpy())), shape=(len(hpo), len(hpo)))\n",
    "adj_neg = 1 - adj.todense() - np.eye(len(hpo))\n",
    "neg_u, neg_v = np.where(adj_neg != 0)\n",
    "\n",
    "neg_eids = np.random.choice(len(neg_u), len(u))\n",
    "test_neg_u, test_neg_v = neg_u[neg_eids[:test_size]], neg_v[neg_eids[:test_size]]\n",
    "train_neg_u, train_neg_v = neg_u[neg_eids[test_size:]], neg_v[neg_eids[test_size:]]"
   ]
  },
  {
   "cell_type": "code",
   "execution_count": 8,
   "id": "fa850319",
   "metadata": {},
   "outputs": [],
   "source": [
    "key_list = list(node_dict.keys())\n",
    "val_list = list(node_dict.values())"
   ]
  },
  {
   "cell_type": "code",
   "execution_count": 9,
   "id": "39b87059",
   "metadata": {},
   "outputs": [],
   "source": [
    "train_neg_x = []\n",
    "train_neg_y = []\n",
    "\n",
    "for i in range(len(train_neg_u)):\n",
    "    position_x = val_list.index(train_neg_u[i])\n",
    "    train_neg_x.append(key_list[position_x])\n",
    "    position_y = val_list.index(train_neg_v[i])\n",
    "    train_neg_y.append(key_list[position_y])\n",
    "\n",
    "zero = [0]*len(train_neg_u)\n",
    "train_neg = pd.DataFrame(list(zip(train_neg_x, train_neg_y, zero)))"
   ]
  },
  {
   "cell_type": "code",
   "execution_count": 10,
   "id": "35caaf2d",
   "metadata": {},
   "outputs": [],
   "source": [
    "train_pos_x = []\n",
    "train_pos_y = []\n",
    "\n",
    "train_pos_u = list(train_pos_u)\n",
    "train_pos_v = list(train_pos_v)\n",
    "\n",
    "for i in range(len(train_pos_u)):\n",
    "    position_x = val_list.index(train_pos_u[i])\n",
    "    train_pos_x.append(key_list[position_x])\n",
    "    position_y = val_list.index(train_pos_v[i])\n",
    "    train_pos_y.append(key_list[position_y])\n",
    "  \n",
    "ones = [1]*len(train_pos_u)\n",
    "train_pos = pd.DataFrame(list(zip(train_pos_x, train_pos_y, ones)))"
   ]
  },
  {
   "cell_type": "code",
   "execution_count": 11,
   "id": "2e731973",
   "metadata": {},
   "outputs": [
    {
     "name": "stdout",
     "output_type": "stream",
     "text": [
      "                     0               1  2\n",
      "0       UBERON:0004434  UBERON:0004313  1\n",
      "1           HP:0033024      HP:0002720  1\n",
      "2       UBERON:0015143  UBERON:0003916  1\n",
      "3       UBERON:0010129  UBERON:0015052  1\n",
      "4           HP:0033182      HP:0012379  1\n",
      "...                ...             ... ..\n",
      "122815      HP:0008935      HP:0011832  0\n",
      "122816      GO:0043471      GO:0033044  0\n",
      "122817  UBERON:0001479      GO:1904269  0\n",
      "122818  UBERON:7500046      HP:0007755  0\n",
      "122819  UBERON:0003387      HP:0025021  0\n",
      "\n",
      "[122820 rows x 3 columns]\n"
     ]
    }
   ],
   "source": [
    "train_set = pd.concat([train_pos, train_neg], ignore_index=True)\n",
    "print(train_set)"
   ]
  },
  {
   "cell_type": "code",
   "execution_count": 12,
   "id": "aca1a3b1",
   "metadata": {},
   "outputs": [],
   "source": [
    "test_neg_x = []\n",
    "test_neg_y = []\n",
    "\n",
    "for i in range(len(test_neg_u)):\n",
    "    position_x = val_list.index(test_neg_u[i])\n",
    "    test_neg_x.append(key_list[position_x])\n",
    "    position_y = val_list.index(test_neg_v[i])\n",
    "    test_neg_y.append(key_list[position_y])\n",
    "\n",
    "zero = [0]*len(test_neg_u)\n",
    "test_neg = pd.DataFrame(list(zip(test_neg_x, test_neg_y, zero)))"
   ]
  },
  {
   "cell_type": "code",
   "execution_count": 13,
   "id": "795240ff",
   "metadata": {},
   "outputs": [],
   "source": [
    "test_pos_x = []\n",
    "test_pos_y = []\n",
    "\n",
    "test_pos_u = list(test_pos_u)\n",
    "test_pos_v = list(test_pos_v)\n",
    "\n",
    "for i in range(len(test_pos_u)):\n",
    "    position_x = val_list.index(test_pos_u[i])\n",
    "    test_pos_x.append(key_list[position_x])\n",
    "    position_y = val_list.index(test_pos_v[i])\n",
    "    test_pos_y.append(key_list[position_y])\n",
    "  \n",
    "ones = [1]*len(test_pos_u)\n",
    "test_pos = pd.DataFrame(list(zip(test_pos_x, test_pos_y, ones)))"
   ]
  },
  {
   "cell_type": "code",
   "execution_count": 14,
   "id": "c2c74cc2",
   "metadata": {},
   "outputs": [
    {
     "name": "stdout",
     "output_type": "stream",
     "text": [
      "                 0           1  2\n",
      "0       GO:1902868  GO:0065007  1\n",
      "1       HP:0000108  HP:0100957  1\n",
      "2       HP:0031783  HP:0011642  1\n",
      "3       GO:1903797  GO:0065007  1\n",
      "4       HP:0010197  HP:0010176  1\n",
      "...            ...         ... ..\n",
      "13641  CHEBI:18367  HP:0031255  0\n",
      "13642   HP:0005363  HP:0031910  0\n",
      "13643   HP:0003541  GO:0042488  0\n",
      "13644    PR:Q62226  HP:0034097  0\n",
      "13645   HP:0010715  HP:0100485  0\n",
      "\n",
      "[13646 rows x 3 columns]\n"
     ]
    }
   ],
   "source": [
    "test_set = pd.concat([test_pos, test_neg], ignore_index=True)\n",
    "print(test_set)"
   ]
  },
  {
   "cell_type": "code",
   "execution_count": 15,
   "id": "565bcfcb",
   "metadata": {},
   "outputs": [],
   "source": [
    "train_set.to_csv('/home/ukjung18/HiG2Vec/evalGO/HPOfull_samples_train.txt', header=False, index=False)"
   ]
  },
  {
   "cell_type": "code",
   "execution_count": 16,
   "id": "a19391a8",
   "metadata": {},
   "outputs": [],
   "source": [
    "test_set.to_csv('/home/ukjung18/HiG2Vec/evalGO/HPOfull_samples.txt', header=False, index=False)"
   ]
  },
  {
   "cell_type": "code",
   "execution_count": 17,
   "id": "076f8275",
   "metadata": {},
   "outputs": [],
   "source": [
    "rel_type = ['subclass_of']*len(train_pos_x)\n",
    "train_hpo = pd.DataFrame(list(zip(train_pos_x, train_pos_y, rel_type)))"
   ]
  },
  {
   "cell_type": "code",
   "execution_count": 18,
   "id": "c2789a12",
   "metadata": {},
   "outputs": [],
   "source": [
    "train_hpo.to_csv(\"/home/ukjung18/HiG2Vec/data/HPOfull_train.tsv\", mode='w', sep='\\t', header=False, index=False)"
   ]
  },
  {
   "cell_type": "code",
   "execution_count": null,
   "id": "a5a2aa1b",
   "metadata": {},
   "outputs": [],
   "source": []
  }
 ],
 "metadata": {
  "kernelspec": {
   "display_name": "Python 3 (ipykernel)",
   "language": "python",
   "name": "python3"
  },
  "language_info": {
   "codemirror_mode": {
    "name": "ipython",
    "version": 3
   },
   "file_extension": ".py",
   "mimetype": "text/x-python",
   "name": "python",
   "nbconvert_exporter": "python",
   "pygments_lexer": "ipython3",
   "version": "3.8.13"
  }
 },
 "nbformat": 4,
 "nbformat_minor": 5
}
